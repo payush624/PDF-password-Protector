{
  "nbformat": 4,
  "nbformat_minor": 0,
  "metadata": {
    "colab": {
      "name": "PASSWORD POTECTOR FOR PDF",
      "provenance": [],
      "toc_visible": true
    },
    "kernelspec": {
      "name": "python3",
      "display_name": "Python 3"
    }
  },
  "cells": [
    {
      "cell_type": "code",
      "metadata": {
        "colab": {
          "base_uri": "https://localhost:8080/"
        },
        "id": "GkJfwUNdUMqE",
        "outputId": "c5d02aba-fa37-4711-97ea-25a4a2ae91ab"
      },
      "source": [
        "!pip install PyPDF2"
      ],
      "execution_count": 1,
      "outputs": [
        {
          "output_type": "stream",
          "text": [
            "Collecting PyPDF2\n",
            "\u001b[?25l  Downloading https://files.pythonhosted.org/packages/b4/01/68fcc0d43daf4c6bdbc6b33cc3f77bda531c86b174cac56ef0ffdb96faab/PyPDF2-1.26.0.tar.gz (77kB)\n",
            "\r\u001b[K     |████▎                           | 10kB 13.6MB/s eta 0:00:01\r\u001b[K     |████████▌                       | 20kB 19.3MB/s eta 0:00:01\r\u001b[K     |████████████▊                   | 30kB 17.7MB/s eta 0:00:01\r\u001b[K     |█████████████████               | 40kB 12.3MB/s eta 0:00:01\r\u001b[K     |█████████████████████▏          | 51kB 8.3MB/s eta 0:00:01\r\u001b[K     |█████████████████████████▍      | 61kB 8.5MB/s eta 0:00:01\r\u001b[K     |█████████████████████████████▋  | 71kB 7.9MB/s eta 0:00:01\r\u001b[K     |████████████████████████████████| 81kB 4.8MB/s \n",
            "\u001b[?25hBuilding wheels for collected packages: PyPDF2\n",
            "  Building wheel for PyPDF2 (setup.py) ... \u001b[?25l\u001b[?25hdone\n",
            "  Created wheel for PyPDF2: filename=PyPDF2-1.26.0-cp36-none-any.whl size=61087 sha256=9d5c7fac09fd56fef6a9bbb27bf8f2ca9ac2a4ff11c733bb74aad1c958880f23\n",
            "  Stored in directory: /root/.cache/pip/wheels/53/84/19/35bc977c8bf5f0c23a8a011aa958acd4da4bbd7a229315c1b7\n",
            "Successfully built PyPDF2\n",
            "Installing collected packages: PyPDF2\n",
            "Successfully installed PyPDF2-1.26.0\n"
          ],
          "name": "stdout"
        }
      ]
    },
    {
      "cell_type": "code",
      "metadata": {
        "id": "9cBXncaHUQof"
      },
      "source": [
        "from PyPDF2 import PdfFileReader,PdfFileWriter"
      ],
      "execution_count": 2,
      "outputs": []
    },
    {
      "cell_type": "code",
      "metadata": {
        "id": "ZqIVqHU_UfNa"
      },
      "source": [
        "address=(\"/home/parth/Desktop/MY DOCUMENTS/kickstart.pdf\")"
      ],
      "execution_count": 7,
      "outputs": []
    },
    {
      "cell_type": "code",
      "metadata": {
        "id": "NxHj5sh4VCBq"
      },
      "source": [
        "### open current pdf\n",
        "file_pdf=PdfFileReader(\"/content/kickstart.pdf\")\n",
        "\n",
        "##object for pdfwriter\n",
        "out_pdf=PdfFileWriter()"
      ],
      "execution_count": 11,
      "outputs": []
    },
    {
      "cell_type": "code",
      "metadata": {
        "colab": {
          "base_uri": "https://localhost:8080/"
        },
        "id": "UosGXxDeVqeQ",
        "outputId": "0929d44f-1579-4b33-d934-e5d82c7e6717"
      },
      "source": [
        "## TO CHECK no of pages in PDF\n",
        "file_pdf.numPages"
      ],
      "execution_count": 22,
      "outputs": [
        {
          "output_type": "execute_result",
          "data": {
            "text/plain": [
              "1"
            ]
          },
          "metadata": {
            "tags": []
          },
          "execution_count": 22
        }
      ]
    },
    {
      "cell_type": "code",
      "metadata": {
        "id": "yzo8RqKTXHXN"
      },
      "source": [
        "for i in range (file_pdf.numPages):\n",
        "  ## take each pages using function getPage()\n",
        "  page_details=file_pdf.getPage(i)    \n",
        "  ## ADD This pages to output page using function addPage()\n",
        "  out_pdf.addPage(page_details)"
      ],
      "execution_count": 16,
      "outputs": []
    },
    {
      "cell_type": "code",
      "metadata": {
        "id": "XJ_bdoqDYEee"
      },
      "source": [
        "password=\"ayush123\""
      ],
      "execution_count": 17,
      "outputs": []
    },
    {
      "cell_type": "code",
      "metadata": {
        "id": "sB51Fc40YZ7d"
      },
      "source": [
        "out_pdf.encrypt(password)\n",
        "# save the pdf using new name ie \" encryptedkickstart\" and open in wb mode \n",
        "with open (\"encryptedkickstart\",\"wb\") as filename:\n",
        "  out_pdf.write(filename)"
      ],
      "execution_count": 25,
      "outputs": []
    },
    {
      "cell_type": "code",
      "metadata": {
        "id": "WEt8C-7xYezZ"
      },
      "source": [
        ""
      ],
      "execution_count": null,
      "outputs": []
    }
  ]
}